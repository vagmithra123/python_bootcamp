{
 "cells": [
  {
   "cell_type": "markdown",
   "metadata": {},
   "source": [
    "# Week 01"
   ]
  },
  {
   "cell_type": "code",
   "execution_count": null,
   "metadata": {},
   "outputs": [],
   "source": [
    "# this is python\n",
    "print('Hello, buddy!')\n"
   ]
  },
  {
   "cell_type": "markdown",
   "metadata": {},
   "source": [
    "# Guessing Game"
   ]
  },
  {
   "cell_type": "code",
   "execution_count": 1,
   "metadata": {},
   "outputs": [
    {
     "name": "stdout",
     "output_type": "stream",
     "text": [
      "Try to guess the number I'm thinking of 10\n",
      "The number is greater than what you guessed\n",
      "Try to guess the number I'm thinking of 20\n",
      "The number is lesser than what you guessed\n",
      "Try to guess the number I'm thinking of 15\n",
      "The number is greater than what you guessed\n",
      "Try to guess the number I'm thinking of 17\n",
      "Congrats, you got it\n",
      "It took you 4 guesses\n"
     ]
    }
   ],
   "source": [
    "#guessing game\n",
    "from random import randint\n",
    "from IPython.display import clear_output\n",
    "guessed = False\n",
    "num = randint(0, 100)\n",
    "guesses = 0\n",
    "while not guessed:\n",
    "    ans = input(\"Try to guess the number I'm thinking of \")\n",
    "    guesses += 1\n",
    "    \n",
    "    if num == int(ans):\n",
    "        print('Congrats, you got it')\n",
    "        print(f'It took you {guesses} guesses')\n",
    "        break\n",
    "    elif num > int(ans):\n",
    "        print('The number is greater than what you guessed')\n",
    "    elif num < int(ans):\n",
    "        print('The number is lesser than what you guessed')\n",
    "   \n"
   ]
  },
  {
   "cell_type": "code",
   "execution_count": null,
   "metadata": {},
   "outputs": [],
   "source": []
  },
  {
   "cell_type": "code",
   "execution_count": null,
   "metadata": {},
   "outputs": [],
   "source": []
  }
 ],
 "metadata": {
  "kernelspec": {
   "display_name": "Python 3",
   "language": "python",
   "name": "python3"
  },
  "language_info": {
   "codemirror_mode": {
    "name": "ipython",
    "version": 3
   },
   "file_extension": ".py",
   "mimetype": "text/x-python",
   "name": "python",
   "nbconvert_exporter": "python",
   "pygments_lexer": "ipython3",
   "version": "3.8.5"
  }
 },
 "nbformat": 4,
 "nbformat_minor": 4
}
